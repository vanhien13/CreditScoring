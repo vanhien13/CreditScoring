{
 "cells": [
  {
   "cell_type": "code",
   "execution_count": 1,
   "metadata": {},
   "outputs": [],
   "source": [
    "import numpy as np \n",
    "import pandas as pd\n",
    "import time, warnings\n",
    "import datetime as dt"
   ]
  },
  {
   "cell_type": "code",
   "execution_count": 2,
   "metadata": {},
   "outputs": [],
   "source": [
    "import matplotlib.pyplot as plt"
   ]
  },
  {
   "cell_type": "code",
   "execution_count": 4,
   "metadata": {},
   "outputs": [],
   "source": [
    "from pandas.plotting import scatter_matrix\n",
    "%matplotlib inline\n",
    "import seaborn as sns"
   ]
  },
  {
   "cell_type": "code",
   "execution_count": 5,
   "metadata": {},
   "outputs": [],
   "source": [
    "warnings.filterwarnings(\"ignore\")"
   ]
  },
  {
   "cell_type": "code",
   "execution_count": 32,
   "metadata": {},
   "outputs": [
    {
     "data": {
      "text/html": [
       "<div>\n",
       "<style scoped>\n",
       "    .dataframe tbody tr th:only-of-type {\n",
       "        vertical-align: middle;\n",
       "    }\n",
       "\n",
       "    .dataframe tbody tr th {\n",
       "        vertical-align: top;\n",
       "    }\n",
       "\n",
       "    .dataframe thead th {\n",
       "        text-align: right;\n",
       "    }\n",
       "</style>\n",
       "<table border=\"1\" class=\"dataframe\">\n",
       "  <thead>\n",
       "    <tr style=\"text-align: right;\">\n",
       "      <th></th>\n",
       "      <th>CALLING_ISDN</th>\n",
       "      <th>CALL_STA_TIME</th>\n",
       "      <th>CREDIT_CHARGED</th>\n",
       "    </tr>\n",
       "  </thead>\n",
       "  <tbody>\n",
       "    <tr>\n",
       "      <th>0</th>\n",
       "      <td>1202000262</td>\n",
       "      <td>2017-02-09 19:13:50</td>\n",
       "      <td>534</td>\n",
       "    </tr>\n",
       "    <tr>\n",
       "      <th>1</th>\n",
       "      <td>1202000262</td>\n",
       "      <td>2017-02-14 17:00:11</td>\n",
       "      <td>1454</td>\n",
       "    </tr>\n",
       "    <tr>\n",
       "      <th>2</th>\n",
       "      <td>1202000262</td>\n",
       "      <td>2017-02-01 06:47:20</td>\n",
       "      <td>415</td>\n",
       "    </tr>\n",
       "    <tr>\n",
       "      <th>3</th>\n",
       "      <td>1202000262</td>\n",
       "      <td>2017-02-15 10:25:44</td>\n",
       "      <td>0</td>\n",
       "    </tr>\n",
       "    <tr>\n",
       "      <th>4</th>\n",
       "      <td>1202000262</td>\n",
       "      <td>2017-02-14 16:20:11</td>\n",
       "      <td>0</td>\n",
       "    </tr>\n",
       "  </tbody>\n",
       "</table>\n",
       "</div>"
      ],
      "text/plain": [
       "   CALLING_ISDN        CALL_STA_TIME CREDIT_CHARGED\n",
       "0    1202000262  2017-02-09 19:13:50            534\n",
       "1    1202000262  2017-02-14 17:00:11           1454\n",
       "2    1202000262  2017-02-01 06:47:20            415\n",
       "3    1202000262  2017-02-15 10:25:44              0\n",
       "4    1202000262  2017-02-14 16:20:11              0"
      ]
     },
     "execution_count": 32,
     "metadata": {},
     "output_type": "execute_result"
    }
   ],
   "source": [
    "#load the dataset\n",
    "telecom_df = pd.read_csv('D:/RFM/Telecom_RFM.csv',sep=',', parse_dates=['CALL_STA_TIME'])\n",
    "telecom_df.head()"
   ]
  },
  {
   "cell_type": "code",
   "execution_count": 33,
   "metadata": {},
   "outputs": [],
   "source": [
    "telecom_df[\"id\"] = telecom_df.index + 1"
   ]
  },
  {
   "cell_type": "code",
   "execution_count": 34,
   "metadata": {},
   "outputs": [
    {
     "data": {
      "text/html": [
       "<div>\n",
       "<style scoped>\n",
       "    .dataframe tbody tr th:only-of-type {\n",
       "        vertical-align: middle;\n",
       "    }\n",
       "\n",
       "    .dataframe tbody tr th {\n",
       "        vertical-align: top;\n",
       "    }\n",
       "\n",
       "    .dataframe thead th {\n",
       "        text-align: right;\n",
       "    }\n",
       "</style>\n",
       "<table border=\"1\" class=\"dataframe\">\n",
       "  <thead>\n",
       "    <tr style=\"text-align: right;\">\n",
       "      <th></th>\n",
       "      <th>CALLING_ISDN</th>\n",
       "      <th>CALL_STA_TIME</th>\n",
       "      <th>CREDIT_CHARGED</th>\n",
       "      <th>id</th>\n",
       "    </tr>\n",
       "  </thead>\n",
       "  <tbody>\n",
       "    <tr>\n",
       "      <th>0</th>\n",
       "      <td>1202000262</td>\n",
       "      <td>2017-02-09 19:13:50</td>\n",
       "      <td>534</td>\n",
       "      <td>1</td>\n",
       "    </tr>\n",
       "    <tr>\n",
       "      <th>1</th>\n",
       "      <td>1202000262</td>\n",
       "      <td>2017-02-14 17:00:11</td>\n",
       "      <td>1454</td>\n",
       "      <td>2</td>\n",
       "    </tr>\n",
       "    <tr>\n",
       "      <th>2</th>\n",
       "      <td>1202000262</td>\n",
       "      <td>2017-02-01 06:47:20</td>\n",
       "      <td>415</td>\n",
       "      <td>3</td>\n",
       "    </tr>\n",
       "    <tr>\n",
       "      <th>3</th>\n",
       "      <td>1202000262</td>\n",
       "      <td>2017-02-15 10:25:44</td>\n",
       "      <td>0</td>\n",
       "      <td>4</td>\n",
       "    </tr>\n",
       "    <tr>\n",
       "      <th>4</th>\n",
       "      <td>1202000262</td>\n",
       "      <td>2017-02-14 16:20:11</td>\n",
       "      <td>0</td>\n",
       "      <td>5</td>\n",
       "    </tr>\n",
       "  </tbody>\n",
       "</table>\n",
       "</div>"
      ],
      "text/plain": [
       "   CALLING_ISDN        CALL_STA_TIME CREDIT_CHARGED  id\n",
       "0    1202000262  2017-02-09 19:13:50            534   1\n",
       "1    1202000262  2017-02-14 17:00:11           1454   2\n",
       "2    1202000262  2017-02-01 06:47:20            415   3\n",
       "3    1202000262  2017-02-15 10:25:44              0   4\n",
       "4    1202000262  2017-02-14 16:20:11              0   5"
      ]
     },
     "execution_count": 34,
     "metadata": {},
     "output_type": "execute_result"
    }
   ],
   "source": [
    "telecom_df.head()"
   ]
  },
  {
   "cell_type": "code",
   "execution_count": 35,
   "metadata": {},
   "outputs": [
    {
     "name": "stdout",
     "output_type": "stream",
     "text": [
      "<class 'pandas.core.frame.DataFrame'>\n",
      "RangeIndex: 1675843 entries, 0 to 1675842\n",
      "Data columns (total 4 columns):\n",
      "CALLING_ISDN      1675843 non-null int64\n",
      "CALL_STA_TIME     1675843 non-null object\n",
      "CREDIT_CHARGED    1675843 non-null object\n",
      "id                1675843 non-null int64\n",
      "dtypes: int64(2), object(2)\n",
      "memory usage: 51.1+ MB\n"
     ]
    }
   ],
   "source": [
    "telecom_df.info()"
   ]
  },
  {
   "cell_type": "code",
   "execution_count": 37,
   "metadata": {},
   "outputs": [
    {
     "name": "stdout",
     "output_type": "stream",
     "text": [
      "$null$ 2017-02-15 23:59:58\n"
     ]
    }
   ],
   "source": [
    "print(telecom_df['CALL_STA_TIME'].min(), telecom_df['CALL_STA_TIME'].max())"
   ]
  },
  {
   "cell_type": "code",
   "execution_count": 39,
   "metadata": {},
   "outputs": [],
   "source": [
    "telecom_df['CALL_STA_TIME'] = pd.to_datetime(telecom_df['CALL_STA_TIME'], errors='coerce')\n",
    "\n",
    "#data['Start Date']= pd.to_datetime(data['Start Date'], dayfirst=True, errors='coerce')"
   ]
  },
  {
   "cell_type": "code",
   "execution_count": 40,
   "metadata": {},
   "outputs": [
    {
     "name": "stdout",
     "output_type": "stream",
     "text": [
      "<class 'pandas.core.frame.DataFrame'>\n",
      "RangeIndex: 1675843 entries, 0 to 1675842\n",
      "Data columns (total 4 columns):\n",
      "CALLING_ISDN      1675843 non-null int64\n",
      "CALL_STA_TIME     1675588 non-null datetime64[ns]\n",
      "CREDIT_CHARGED    1675843 non-null object\n",
      "id                1675843 non-null int64\n",
      "dtypes: datetime64[ns](1), int64(2), object(1)\n",
      "memory usage: 51.1+ MB\n"
     ]
    }
   ],
   "source": [
    "telecom_df.info()"
   ]
  },
  {
   "cell_type": "code",
   "execution_count": 41,
   "metadata": {},
   "outputs": [
    {
     "name": "stdout",
     "output_type": "stream",
     "text": [
      "2017-02-01 00:00:07 2017-02-15 23:59:58\n"
     ]
    }
   ],
   "source": [
    "print(telecom_df['CALL_STA_TIME'].min(), telecom_df['CALL_STA_TIME'].max())"
   ]
  },
  {
   "cell_type": "code",
   "execution_count": 42,
   "metadata": {},
   "outputs": [],
   "source": [
    "sd = dt.datetime(2017,2,15)"
   ]
  },
  {
   "cell_type": "code",
   "execution_count": 44,
   "metadata": {},
   "outputs": [
    {
     "data": {
      "text/html": [
       "<div>\n",
       "<style scoped>\n",
       "    .dataframe tbody tr th:only-of-type {\n",
       "        vertical-align: middle;\n",
       "    }\n",
       "\n",
       "    .dataframe tbody tr th {\n",
       "        vertical-align: top;\n",
       "    }\n",
       "\n",
       "    .dataframe thead th {\n",
       "        text-align: right;\n",
       "    }\n",
       "</style>\n",
       "<table border=\"1\" class=\"dataframe\">\n",
       "  <thead>\n",
       "    <tr style=\"text-align: right;\">\n",
       "      <th></th>\n",
       "      <th>CALLING_ISDN</th>\n",
       "      <th>CALL_STA_TIME</th>\n",
       "      <th>CREDIT_CHARGED</th>\n",
       "      <th>id</th>\n",
       "      <th>hist</th>\n",
       "    </tr>\n",
       "  </thead>\n",
       "  <tbody>\n",
       "    <tr>\n",
       "      <th>0</th>\n",
       "      <td>1202000262</td>\n",
       "      <td>2017-02-09 19:13:50</td>\n",
       "      <td>534</td>\n",
       "      <td>1</td>\n",
       "      <td>5.198727</td>\n",
       "    </tr>\n",
       "    <tr>\n",
       "      <th>1</th>\n",
       "      <td>1202000262</td>\n",
       "      <td>2017-02-14 17:00:11</td>\n",
       "      <td>1454</td>\n",
       "      <td>2</td>\n",
       "      <td>0.291539</td>\n",
       "    </tr>\n",
       "    <tr>\n",
       "      <th>2</th>\n",
       "      <td>1202000262</td>\n",
       "      <td>2017-02-01 06:47:20</td>\n",
       "      <td>415</td>\n",
       "      <td>3</td>\n",
       "      <td>13.717130</td>\n",
       "    </tr>\n",
       "    <tr>\n",
       "      <th>3</th>\n",
       "      <td>1202000262</td>\n",
       "      <td>2017-02-15 10:25:44</td>\n",
       "      <td>0</td>\n",
       "      <td>4</td>\n",
       "      <td>-0.434537</td>\n",
       "    </tr>\n",
       "    <tr>\n",
       "      <th>4</th>\n",
       "      <td>1202000262</td>\n",
       "      <td>2017-02-14 16:20:11</td>\n",
       "      <td>0</td>\n",
       "      <td>5</td>\n",
       "      <td>0.319317</td>\n",
       "    </tr>\n",
       "  </tbody>\n",
       "</table>\n",
       "</div>"
      ],
      "text/plain": [
       "   CALLING_ISDN       CALL_STA_TIME CREDIT_CHARGED  id       hist\n",
       "0    1202000262 2017-02-09 19:13:50            534   1   5.198727\n",
       "1    1202000262 2017-02-14 17:00:11           1454   2   0.291539\n",
       "2    1202000262 2017-02-01 06:47:20            415   3  13.717130\n",
       "3    1202000262 2017-02-15 10:25:44              0   4  -0.434537\n",
       "4    1202000262 2017-02-14 16:20:11              0   5   0.319317"
      ]
     },
     "execution_count": 44,
     "metadata": {},
     "output_type": "execute_result"
    }
   ],
   "source": [
    "telecom_df['hist']=sd - telecom_df['CALL_STA_TIME']\n",
    "telecom_df['hist'].astype('timedelta64[D]')\n",
    "telecom_df['hist']=telecom_df['hist'] / np.timedelta64(1, 'D')\n",
    "telecom_df.head()"
   ]
  },
  {
   "cell_type": "code",
   "execution_count": null,
   "metadata": {},
   "outputs": [],
   "source": [
    "rfmTable = telecom_df.groupby('id').agg({'hist': lambda x:x.min(), # Recency\n",
    "                                        'CALLING_ISDN': lambda x: len(x),               # Frequency\n",
    "                                        'CREDIT_CHARGED': lambda x: x.sum()})          # Monetary Value\n",
    "\n",
    "rfmTable.rename(columns={'hist': 'recency', \n",
    "                         'id': 'frequency', \n",
    "                         'CREDIT_CHARGED': 'monetary_value'}, inplace=True)"
   ]
  },
  {
   "cell_type": "code",
   "execution_count": null,
   "metadata": {},
   "outputs": [],
   "source": [
    "telecom_df.head()\n"
   ]
  },
  {
   "cell_type": "code",
   "execution_count": null,
   "metadata": {},
   "outputs": [],
   "source": []
  },
  {
   "cell_type": "code",
   "execution_count": null,
   "metadata": {},
   "outputs": [],
   "source": []
  },
  {
   "cell_type": "code",
   "execution_count": null,
   "metadata": {},
   "outputs": [],
   "source": []
  },
  {
   "cell_type": "code",
   "execution_count": null,
   "metadata": {},
   "outputs": [],
   "source": []
  }
 ],
 "metadata": {
  "kernelspec": {
   "display_name": "Python 3",
   "language": "python",
   "name": "python3"
  },
  "language_info": {
   "codemirror_mode": {
    "name": "ipython",
    "version": 3
   },
   "file_extension": ".py",
   "mimetype": "text/x-python",
   "name": "python",
   "nbconvert_exporter": "python",
   "pygments_lexer": "ipython3",
   "version": "3.6.3"
  }
 },
 "nbformat": 4,
 "nbformat_minor": 2
}
